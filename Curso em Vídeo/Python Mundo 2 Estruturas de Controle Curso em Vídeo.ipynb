{
 "cells": [
  {
   "cell_type": "markdown",
   "metadata": {
    "id": "gPF1TjwGDfNK"
   },
   "source": [
    "---\n",
    "---\n",
    "# **ESTRUTURAS DE CONTROLE**\n",
    "---\n",
    "---"
   ]
  },
  {
   "cell_type": "markdown",
   "metadata": {
    "id": "ydlcFkOCbJmw"
   },
   "source": [
    "#<font color=red> **if, elif e else**<font color=black> - Estruturas condicionais simples e Compostas"
   ]
  },
  {
   "cell_type": "markdown",
   "metadata": {
    "id": "FUe2dm3-cQpI"
   },
   "source": [
    "<font color=blue>Comandos\n",
    "---"
   ]
  },
  {
   "cell_type": "markdown",
   "metadata": {
    "id": "QVhp6ylloLPZ"
   },
   "source": [
    "**Estruturas condicionais simples**\n",
    "\n",
    "**if** teste:\n",
    "\n",
    "  comando se verdadeiro\n",
    "\n",
    "**else:**\n",
    "\n",
    "  comando se falso\n",
    "\n",
    "\n",
    "\n",
    "\n",
    "\n",
    ">```\n",
    "Comando\n",
    "n1 = 10\n",
    "n2 = 2\n",
    "if n1 > n2:\n",
    "    print(f'{n1} é maior que {n2}')\n",
    "else:\n",
    "    print(f'{n1} não é maior que {n2}')\n",
    "```\n",
    "```\n",
    "Saída\n",
    "10 é maior que 2\n",
    "```\n",
    "\n",
    "Os comandos **if** e **else** só se repetem uma única vez.\n",
    "\n",
    "Os comandos **elif** e **else** são opicionais.\n",
    "\n",
    "\n",
    "---\n"
   ]
  },
  {
   "cell_type": "markdown",
   "metadata": {
    "id": "qCJsHr5dKsRX"
   },
   "source": [
    "**Estruturas condicionais compostas**\n",
    "\n",
    "**if** teste:\n",
    "\n",
    "  comando se verdadeiro\n",
    "\n",
    "**elif** teste:\n",
    "\n",
    "  comando se verdadeiro\n",
    "\n",
    "**elif** teste:\n",
    "\n",
    "  comando se verdadeiro\n",
    "\n",
    "**else:**\n",
    "\n",
    "  comando se falso\n",
    "\n",
    ">```\n",
    "Comando\n",
    "n1 = 7\n",
    "n2 = 10\n",
    "if n1 > n2:\n",
    "  print(f'{n1} é maior que {n2}')\n",
    "elif n1 == n2:\n",
    "  print(f'{n1} é igual a {n2}')\n",
    "else:\n",
    "  print(f'{n1} é menor que {n2}')\n",
    "```\n",
    "```\n",
    "Saída\n",
    "7 é menor que 10\n",
    "```\n",
    "\n",
    "Os comandos **if** e **else** só se repetem uma única vez.\n",
    "\n",
    "Os comandos **elif** e **else** são opicionais.\n",
    "\n",
    "O comando **elif** pode se repetir mais de uma vez, caso necessário."
   ]
  },
  {
   "cell_type": "markdown",
   "metadata": {
    "id": "-mcIJWnTcEIB"
   },
   "source": [
    "<font color=blue>Exercícios\n",
    "---"
   ]
  },
  {
   "cell_type": "markdown",
   "metadata": {
    "id": "_LmZCBKVn6pJ"
   },
   "source": [
    "**Exercício 36** - aprovando empréstimo\n",
    "\n",
    "Escreva um programa para aprovar o empréstimo bancário para a compra de uma casa. Pergunte o valor da casa, o salário do comprador e em quantos anos ele vai pagar. A prestação mensal não pode exceder 30% do salário ou então o empréstimo será negado."
   ]
  },
  {
   "cell_type": "code",
   "execution_count": null,
   "metadata": {
    "id": "JCWKpkfrn7Ah"
   },
   "outputs": [],
   "source": [
    "casa = float(input('Valor da casa: R$'))\n",
    "salario = float(input('Salário do comprador: R$'))\n",
    "anos = int(input('Quantos anos de financiamento? '))\n",
    "prestacao = casa / (anos * 12)\n",
    "minimo = salario * 30 / 100\n",
    "print(f'Para pagar uma casa de R${casa:.2f} em {anos} anos', end=' ')\n",
    "print(f'a prestação será de R${prestacao:.2f}')\n",
    "if prestacao <= minimo:\n",
    "  print('Empréstimo pode ser CONCEDIDO!')\n",
    "else:\n",
    "  print('Empréstimo NEGADO!')"
   ]
  },
  {
   "cell_type": "markdown",
   "metadata": {
    "id": "qjmWDSlBn7RB"
   },
   "source": [
    "---\n",
    "\n",
    "**Exercício 37** - conversor de bases numéricas\n",
    "\n",
    "Escreva um programa em python que leia um número inteiro qualquer e peça para o usuário escolher qual será a base de conversão: 1 para binário, 2 para octal e 3 para hexadecimal."
   ]
  },
  {
   "cell_type": "code",
   "execution_count": null,
   "metadata": {
    "id": "sBPj7YOAn7ip"
   },
   "outputs": [],
   "source": [
    "num = int(input('Digite um número inteiro: '))\n",
    "print('''Escolha uma das bases da conversão: \n",
    "[ 1 ] converter para BINÁRIO\n",
    "[ 2 ] converter para OCTAL\n",
    "[ 3 ] converter para HEXADECIMAL''')\n",
    "opcao = int(input('Sua opção: '))\n",
    "if opcao == 1:\n",
    "  print(f'{num} convertido para BINÁRIO é igual a {bin(num)[2:]}')\n",
    "elif opcao == 2:\n",
    "  print(f'{num} convertido para OCTAL é igual a {oct(num)[2:]}')\n",
    "elif opcao == 3:\n",
    "  print(f'{num} convertido para HEXADECIMAL é igual a {hex(num)[2:]}')\n",
    "else:\n",
    "  print('Opção inválida. Tente novamente.')"
   ]
  },
  {
   "cell_type": "markdown",
   "metadata": {
    "id": "QGnC9wpqn775"
   },
   "source": [
    "---\n",
    "\n",
    "**Exercício 38** - comparando números\n",
    "\n",
    "Escreva um programa que leia dois números inteiros e compare-os. mostrando na tela uma mensagem:\n",
    "\n",
    "– o primeiro valor é maior\n",
    "\n",
    "– o segundo valor é maior\n",
    "\n",
    "– não existe valor maior, os dois são iguais\n",
    "\n"
   ]
  },
  {
   "cell_type": "code",
   "execution_count": null,
   "metadata": {
    "id": "W6bCk72wn8PJ"
   },
   "outputs": [],
   "source": [
    "n1 = int(input('Primeiro número: '))\n",
    "n2 = int(input('Segundo número: '))\n",
    "if n1 > n2:\n",
    "  print('O PRIMEIRO valor é maior')\n",
    "elif n2 > n1:\n",
    "  print('O SEGUNDO valor é maior')\n",
    "else:\n",
    "  print('Os dois valores são IGUAIS')"
   ]
  },
  {
   "cell_type": "markdown",
   "metadata": {
    "id": "1W0bN3ran8s5"
   },
   "source": [
    "---\n",
    "\n",
    "**Exercício 39** - alistamento militar\n",
    "\n",
    "Faça um programa que leia o ano de nascimento de um jovem e informe, de acordo com a sua idade, se ele ainda vai se alistar ao serviço militar, se é a hora exata de se alistar ou se já passou do tempo do alistamento. Seu programa também deverá mostrar o tempo que falta ou que passou do prazo."
   ]
  },
  {
   "cell_type": "code",
   "execution_count": null,
   "metadata": {
    "id": "TaCPEwAMn89x"
   },
   "outputs": [],
   "source": [
    "from datetime import date\n",
    "atual = date.today().year\n",
    "nasc = int(input('Ano de nascimento: '))\n",
    "idade = atual - nasc\n",
    "print(f'Quem nasceu em {nasc} tem {idade} anos em {atual}')\n",
    "if idade == 18:\n",
    "  print('Você tem que se alistar IMEDIATAMENTE!')\n",
    "elif idade < 18:\n",
    "  saldo = 18 - idade\n",
    "  print(f'Ainda faltam {saldo} anos para o alistamento')\n",
    "  ano = atual + saldo\n",
    "  print(f'Seu alistamento será em {ano}')\n",
    "elif idade > 18:\n",
    "  saldo = idade - 18\n",
    "  print(f'Você já deveria ter se alistado há {saldo} anos.')\n",
    "  ano = atual - saldo\n",
    "  print(f'Seu alistamento foi em {ano}.')"
   ]
  },
  {
   "cell_type": "markdown",
   "metadata": {
    "id": "cQSaaE-pn9SJ"
   },
   "source": [
    "---\n",
    "\n",
    "**Exercício 40** - aquele clássico da Média\n",
    "\n",
    "Crie um programa que leia duas notas de um aluno e calcule sua média, mostrando uma mensagem no final, de acordo com a média atingida:\n",
    "\n",
    "– média abaixo de 5.0: Reprovado\n",
    "\n",
    "– média entre 5.0 e 6.9: Recuperação\n",
    "\n",
    "– média 7.0 ou superior: Aprovado"
   ]
  },
  {
   "cell_type": "code",
   "execution_count": null,
   "metadata": {
    "id": "rZjvUlcjn9nh"
   },
   "outputs": [],
   "source": [
    "nota1 = float(input('Primeira nota: '))\n",
    "nota2 = float(input('Segunda nota: '))\n",
    "media = (nota1 + nota2) / 2\n",
    "print(f'Tirando {nota1:.1f} e {nota2:.1f}, a média do aluno é {media:.1f}')\n",
    "if 7 > media >= 5:\n",
    "  print('O aluno está em RECUPERAÇÃO.')\n",
    "elif media < 5:\n",
    "  print('O aluno está REPROVADO.')\n",
    "elif media >= 7:\n",
    "  print('O aluno está APROVADO')"
   ]
  },
  {
   "cell_type": "markdown",
   "metadata": {
    "id": "kdJ4bnJun-ax"
   },
   "source": [
    "---\n",
    "\n",
    "**Exercício 41** - classificando atletas\n",
    "\n",
    "A confederação nacional de natação precisa de um programa que leia o ano de nascimento de um atleta e mostre sua categoria, de acordo com a idade:\n",
    "\n",
    "– até 9 anos: mirim\n",
    "\n",
    "– até 14 anos: infantil\n",
    "\n",
    "– até 19 anos: júnior\n",
    "\n",
    "– até 25 anos: sênior\n",
    "\n",
    "– acima de 25 anos: master"
   ]
  },
  {
   "cell_type": "code",
   "execution_count": null,
   "metadata": {
    "id": "y5K1SnfCn-sJ"
   },
   "outputs": [],
   "source": [
    "from datetime import date\n",
    "atual = date.today().year\n",
    "nascimento = int(input('Ano de Nascimento: '))\n",
    "idade = atual - nascimento\n",
    "print(f'O atleta tem {idade} anos.')\n",
    "if idade <= 9:\n",
    "  print('Classificação: MIRIM')\n",
    "elif idade <= 14:\n",
    "  print('Classificação: INFANTIL')\n",
    "elif idade <= 19:\n",
    "  print('Classificação: JUNIOR')\n",
    "elif idade <= 25:\n",
    "  print('Classificação: SÊNIOR')\n",
    "else:\n",
    "  print('Classificação: MASTER')"
   ]
  },
  {
   "cell_type": "markdown",
   "metadata": {
    "id": "IQ0rpoXZmpqZ"
   },
   "source": [
    "---\n",
    "\n",
    "**Exercício 42** - analisando triângulos v2.0\n",
    "\n",
    "Refaça o desafio 35 dos triângulos, acrescentando o recurso de mostrar que tipo de triângulo será formado:\n",
    "\n",
    "– equilátero: todos os lados iguais\n",
    "\n",
    "– isósceles: dois lados iguais\n",
    "\n",
    "– escaleno: todos os lados diferentes."
   ]
  },
  {
   "cell_type": "code",
   "execution_count": null,
   "metadata": {
    "id": "wJ56d8FjnA3w"
   },
   "outputs": [],
   "source": [
    "r1 = float(input('Primeiro segmento: '))\n",
    "r2 = float(input('Segundo segmento: '))\n",
    "r3 = float(input('Terceiro segmento: '))\n",
    "if r1 < r2 + r3 and r2 < r1 + r3 and r3 < r1 + r2:\n",
    "  print('Os segmentos acima PODEM FORMAR um triângulo ', end='')\n",
    "  if r1 == r2 == r3:\n",
    "    print('EQUILATERO!')\n",
    "  elif r1 != r2 != r3 != r1:\n",
    "    print('ESCALENO!')\n",
    "  else:\n",
    "    print('ISÓSCELES') \n",
    "else:\n",
    "  print('Os segmentos acima NÃO PODEM FORMAR triângulo.')"
   ]
  },
  {
   "cell_type": "markdown",
   "metadata": {
    "id": "EeWLHqTpnGuo"
   },
   "source": [
    "---\n",
    "\n",
    "**Exercícios 43** - índice de massa corporal\n",
    "\n",
    "Desenvolva uma lógica que leia o peso e a altura de uma pessoa, calcule seu Índice de Massa Corporal (IMC) e mostre seu status, de acordo com a tabela abaixo:\n",
    "\n",
    "– IMC abaixo de 18,5: abaixo do peso\n",
    "\n",
    "– entre 18,5 e 25: peso ideal\n",
    "\n",
    "– 25 até 30: sobrepeso\n",
    "\n",
    "– 30 até 40: obesidade\n",
    "\n",
    "– acima de 40: obesidade mórbida"
   ]
  },
  {
   "cell_type": "code",
   "execution_count": null,
   "metadata": {
    "id": "-X4ZNKffnKcg"
   },
   "outputs": [],
   "source": [
    "peso = float(input('Qual é o seu peso? (kg) '))\n",
    "altura = float(input('Qual é sua altura? (m) '))\n",
    "imc = peso / (altura ** 2)\n",
    "print(f'O IMC dessa pessoa é de {imc:.1f}')\n",
    "if imc < 18.5:\n",
    "  print('Você está ABAIXO do Peso normal')\n",
    "elif 18.5 <= imc < 25:\n",
    "  print('PARABÉNS, você está na faixa de PESO NORMAL')\n",
    "elif 25 <= imc < 30:\n",
    "  print('Você está em SOBREPESO')\n",
    "elif 30 <= imc < 40:\n",
    "  print('Você está em OBESIDADE!')\n",
    "elif imc >= 40:\n",
    "  print('Você está em OBESIDADE MÓRBIDA, cuidado!')"
   ]
  },
  {
   "cell_type": "markdown",
   "metadata": {
    "id": "mhmv54clnKzA"
   },
   "source": [
    "---\n",
    "\n",
    "**Exercício 44** - gerenciador de pagamentos\n",
    "\n",
    "Elabore um programa que calcule o valor a ser pago por um produto, considerando o seu preço normal e condição de pagamento:\n",
    "\n",
    "– à vista dinheiro/cheque: 10% de desconto\n",
    "\n",
    "– à vista no cartão: 5% de desconto\n",
    "\n",
    "– em até 2x no cartão: preço formal \n",
    "\n",
    "– 3x ou mais no cartão: 20% de juros\n",
    "\n"
   ]
  },
  {
   "cell_type": "code",
   "execution_count": null,
   "metadata": {
    "id": "So_Qi7jKnNPg"
   },
   "outputs": [],
   "source": [
    "# print(f'{\"LOJAS GUANABARA\":^40}')\n",
    "print(f'{\" LOJAS GUANABARA \":=^40}')\n",
    "preco = float(input('Preço das compras: R$'))\n",
    "print('''FORMAS DE PAGAMENTO\n",
    "[ 1 ] à vista dinheiro/cheque\n",
    "[ 2 ] à vista cartão\n",
    "[ 3 ] 2x no cartão\n",
    "[ 4 ] 3x ou mais no cartão''')\n",
    "opcao = int(input('Qual é a opção? '))\n",
    "if opcao == 1:\n",
    "  total = preco - (preco * 10 / 100)\n",
    "elif opcao == 2:\n",
    "  total = preco - (preco * 5 / 100)\n",
    "elif opcao == 3:\n",
    "  total = preco\n",
    "  parcela = total / 2\n",
    "  print(f'Sua compra será parcelada em 2x de R${parcela:.2f} SEM JUROS')\n",
    "elif opcao == 4:\n",
    "  total = preco + (preco * 20 / 100)\n",
    "  totalparc = int(input('Quantas parcelas? '))\n",
    "  parcela = total / totalparc\n",
    "  print(f'Sua conta será parcelada em {totalparc}x de R${parcela:.2f} COM JUROS')\n",
    "else:\n",
    "  total = preco\n",
    "  print('OPÇÃO INVÁLIDA de pagamento. Tente novamente!')\n",
    "print(f'Sua compra de R${preco:.2f} vai custar R${total:.2f} no final.')"
   ]
  },
  {
   "cell_type": "markdown",
   "metadata": {
    "id": "oU4ktHzSnNkg"
   },
   "source": [
    "---\n",
    "\n",
    "**Exercício 45** - game: pedra papel e tesoura\n",
    "\n",
    "Crie um programa que faça o computador jogar Jokenpô com você."
   ]
  },
  {
   "cell_type": "code",
   "execution_count": null,
   "metadata": {
    "id": "wlsFdzRHnPpp"
   },
   "outputs": [],
   "source": [
    "from random import randint\n",
    "itens = ('Pedra', 'Papel', 'Tesoura')\n",
    "computador = randint(0, 2)\n",
    "print('''Suas opções:\n",
    "[ 0 ] Pedra\n",
    "[ 1 ] Papel\n",
    "[ 2 ] Tesoura''')\n",
    "jogador = int(input('Qual é a sua jogada? '))\n",
    "print('-=' * 11)\n",
    "print(f'Computador jogou {itens[computador]}')\n",
    "print(f'Jogador jogou {itens[jogador]}')\n",
    "print('-=' * 11)\n",
    "if computador == 0:\n",
    "  if jogador == 0:\n",
    "    print('EMPATE')\n",
    "  elif jogador == 1:\n",
    "    print('JOGADOR VENCE')\n",
    "  elif jogador == 2:\n",
    "    print('COMPUTADOR VENCE')\n",
    "  else:\n",
    "    print('JOGADA INVÁLIDA!')\n",
    "elif computador == 1:\n",
    "  if jogador == 0:\n",
    "    print('COMPUTADOR VENCE')\n",
    "  elif jogador == 1:\n",
    "    print('EMPATE')\n",
    "  elif jogador == 2:\n",
    "    print('JOGADOR VENCE')\n",
    "  else:\n",
    "    print('JOGADA INVÁLIDA!')\n",
    "elif computador == 2:\n",
    "  if jogador == 0:\n",
    "    print('JOGADOR VENCE')\n",
    "  elif jogador == 1:\n",
    "    print('COMPUTADOR VENCE')\n",
    "  elif jogador == 2:\n",
    "    print('EMPATE')\n",
    "  else:\n",
    "    print('JOGADA INVÁLIDA!')"
   ]
  },
  {
   "cell_type": "markdown",
   "metadata": {
    "id": "J-J6eWzBbPSJ"
   },
   "source": [
    "#<font color=red>  **for**<font color=black> - estruturas de repetição com variável de controle"
   ]
  },
  {
   "cell_type": "markdown",
   "metadata": {
    "id": "lRDVhtfhdGrT"
   },
   "source": [
    "<font color=blue>Comandos\n",
    "---"
   ]
  },
  {
   "cell_type": "markdown",
   "metadata": {
    "id": "Y7xkd7e-iuO9"
   },
   "source": [
    "**sintaxe básica for:** for < nome variável > in < iterável >:\n",
    "\n",
    "< nome variável > é o nome da variável que vai receber os elemento de < iterável >.\n",
    "\n",
    "< iterável > é o container de dados sobre o qual vamos iterar, podendo ser: uma lista, uma tupla, uma string, um dicionário, entre outros.\n",
    "\n",
    "exemplos com lista\n",
    "\n",
    ">```\n",
    "Comando\n",
    "computador = ['Processador', 'Teclado', 'Mouse']\n",
    "for item in computador:\n",
    "    print(item)\n",
    "```\n",
    "```\n",
    "Saída\n",
    "Processador\n",
    "Teclado\n",
    "Mouse\n",
    "```\n",
    "\n",
    ">```\n",
    "Comando\n",
    "lista = [1, 2, 3, 4, 5]\n",
    "for item in lista:\n",
    "    print(item)\n",
    "```\n",
    "```\n",
    "Saída\n",
    "1\n",
    "2\n",
    "3\n",
    "4\n",
    "5\n",
    "```\n",
    "\n",
    "exemplo com string\n",
    ">```\n",
    "Comando\n",
    "for caractere in 'Python':\n",
    "    print(caractere)\n",
    "```\n",
    "```\n",
    "Saída\n",
    "P\n",
    "y\n",
    "t\n",
    "h\n",
    "o\n",
    "n\n",
    "```\n",
    "\n",
    "\n",
    "\n",
    "---"
   ]
  },
  {
   "cell_type": "markdown",
   "metadata": {
    "id": "6X5TX0iK0nbR"
   },
   "source": [
    "**range()** função\n",
    "\n",
    "ela nos entrega uma sequência de números para utilizarmos!\n",
    "\n",
    "**sintaxes:**\n",
    "\n",
    "< nome variável > é o nome da variável que vai receber os elemento de <iterável>.\n",
    "\n",
    "< inicio sequência> o inicio de uma sequência.\n",
    "\n",
    "< fim sequência > o valor final da sequência.\n",
    "\n",
    "< passo > o passo (ou pulo).\n",
    "\n",
    "**for < nome variável > in range(< inicio_sequência >, < fim_sequência>, < passo >)**\n",
    "\n",
    "da saltos em < passo > do < inicio_sequência > até < fim_sequência>.\n",
    "\n",
    "exemplo\n",
    ">```\n",
    "Comando\n",
    "for num in range(2, 7, 2):\n",
    "    print(num)\n",
    "```\n",
    "```\n",
    "Saída\n",
    "2\n",
    "4\n",
    "6\n",
    "```\n",
    "\n",
    "**for < nome variável > in range(< inicio_sequência >, < fim_sequência >)**\n",
    "\n",
    "da saltos em 1 do < inicio_sequência > até < fim_sequência>.\n",
    "\n",
    "exemplo\n",
    ">```\n",
    "Comando\n",
    "for num in range(2, 6):\n",
    "    print(num)\n",
    "```\n",
    "```\n",
    "Saída\n",
    "2\n",
    "3\n",
    "4\n",
    "5\n",
    "```\n",
    "\n",
    "**for < nome variável > in range(< fim_sequência>)**\n",
    "\n",
    "da saltos em 1 do 0 até < fim_sequência>.\n",
    "\n",
    "exemplo\n",
    "\n",
    ">```\n",
    "Comando\n",
    "for num in range(4):\n",
    "    print(num)\n",
    "```\n",
    "```\n",
    "Saída\n",
    "0\n",
    "1\n",
    "2\n",
    "3\n",
    "```\n",
    "\n",
    "---"
   ]
  },
  {
   "cell_type": "markdown",
   "metadata": {
    "id": "Uixw3Cfg0soR"
   },
   "source": [
    "**auxiliadores**\n",
    "\n",
    "**break**\n",
    "\n",
    "é usado para finalizar um loop, isto é, é usado para parar sua execução.\n",
    "\n",
    "geralmente vem acompanhado de alguma condição para isso, com um if.\n",
    "\n",
    "exemplo com auxiliador break\n",
    "\n",
    ">```\n",
    "Comando\n",
    "for num in range(10):\n",
    "    if num == 5:\n",
    "        break\n",
    "    else:\n",
    "        print(num)\n",
    "```\n",
    "```\n",
    "Saída\n",
    "0\n",
    "1\n",
    "2\n",
    "3\n",
    "4\n",
    "```\n",
    "\n",
    "**continue**\n",
    "\n",
    "funciona de maneira similar ao break, contudo ao invés de encerrar o loop ele pula todo código que estiver abaixo dele (dentro do loop) partindo para a próxima iteração.\n",
    "\n",
    "exemplo com auxiliador continue\n",
    "\n",
    ">```\n",
    "Comando\n",
    "for num in range(5):\n",
    "    if num == 3:\n",
    "        print(\"Encontrei o 3\")\n",
    "        continue\n",
    "    else:\n",
    "        print(num)\n",
    "    print(\"comando após o IF\")\n",
    "```\n",
    "```\n",
    "Saída\n",
    "0\n",
    "comando após o IF\n",
    "1\n",
    "comando após o IF\n",
    "2\n",
    "comando após o IF\n",
    "Encontrei o 3\n",
    "4\n",
    "comando após o IF\n",
    "```\n",
    "\n",
    "**pass**\n",
    "\n",
    "o pass nada mais é que uma forma de fazer um código que não realiza operação nenhuma. o comando pass evita que o código resulte em erro.\n",
    "\n",
    "exemplo com auxiliador pass\n",
    "\n",
    ">```\n",
    "Comando\n",
    "for number in range(6):\n",
    "    if number == 3:\n",
    "        pass\n",
    "    else:\n",
    "        print(number)\n",
    "```\n",
    "```\n",
    "Saída\n",
    "0\n",
    "1\n",
    "2\n",
    "4\n",
    "5\n",
    "```"
   ]
  },
  {
   "cell_type": "markdown",
   "metadata": {
    "id": "Vkd7DRNrdHXR"
   },
   "source": [
    "<font color=blue>Exercícios\n",
    "---"
   ]
  },
  {
   "cell_type": "markdown",
   "metadata": {
    "id": "p2RLP_x5leOF"
   },
   "source": [
    "**Exercício 46** - contagem regressiva\n",
    "\n",
    "Faça um programa que mostre na tela uma contagem regressiva para o estouro de fogos de artifício, indo de 10 até 0, com uma pausa de 1 segundo entre eles."
   ]
  },
  {
   "cell_type": "code",
   "execution_count": null,
   "metadata": {
    "id": "qwP8gnh8lzE1"
   },
   "outputs": [],
   "source": [
    "from time import sleep\n",
    "for c in range(10, -1, -1):\n",
    "    print(c)\n",
    "    sleep(1)\n",
    "print('BUM! BUM! POOOW!')"
   ]
  },
  {
   "cell_type": "markdown",
   "metadata": {
    "id": "ZU_Kh9B2liT9"
   },
   "source": [
    "---\n",
    "\n",
    "**Exercício 47** - contagem de pares\n",
    "\n",
    "Crie um programa que mostre na tela todos os números pares que estão no intervalo entre 1 e 50."
   ]
  },
  {
   "cell_type": "code",
   "execution_count": null,
   "metadata": {
    "id": "jAAl0Nqslzmu"
   },
   "outputs": [],
   "source": [
    "for c in range(2, 51, 2):\n",
    "    print(c, end=' ')"
   ]
  },
  {
   "cell_type": "markdown",
   "metadata": {
    "id": "T98zQzLYljme"
   },
   "source": [
    "---\n",
    "\n",
    "**Exercício 48** - soma ímpares múltiplos de três\n",
    "\n",
    "Faça um programa que calcule a soma entre todos os números ímpares que são múltiplos de três e que se encontram no intervalo de 1 até 500."
   ]
  },
  {
   "cell_type": "code",
   "execution_count": null,
   "metadata": {
    "colab": {
     "base_uri": "https://localhost:8080/"
    },
    "id": "tcf3mjS5l0Ll",
    "outputId": "362216de-cac1-4e82-8ca4-85f52b355c6e"
   },
   "outputs": [
    {
     "name": "stdout",
     "output_type": "stream",
     "text": [
      "Soma: 20667\n"
     ]
    }
   ],
   "source": [
    "soma = 0\n",
    "for c in range(1, 501, 2):\n",
    "    if c % 3 == 0:\n",
    "        soma += c\n",
    "print(f'Soma: {soma}')"
   ]
  },
  {
   "cell_type": "markdown",
   "metadata": {
    "id": "TRfgavEClko9"
   },
   "source": [
    "---\n",
    "\n",
    "**Exercício 49** - tabuada v.2.0\n",
    "\n",
    "Refaça o exercício 9, mostrando a tabuada de um número que o usuário escolher, só que agora utilizando um laço for."
   ]
  },
  {
   "cell_type": "code",
   "execution_count": null,
   "metadata": {
    "id": "nTh4L7q-l1Ge"
   },
   "outputs": [],
   "source": [
    "num = int(input('Digite um número para ver a sua tabuada: '))\n",
    "for c in range(0, 11):\n",
    "    print(f'{num} x {c} = {num * c:.2f}')"
   ]
  },
  {
   "cell_type": "markdown",
   "metadata": {
    "id": "PKhufO8Gllju"
   },
   "source": [
    "---\n",
    "\n",
    "**Exercício 50** - soma dos pares\n",
    "\n",
    "Desenvolva um programa que leia seis números inteiros e mostre a soma apenas daqueles que forem pares. Se o valor digitado for ímpar, desconsidere-o."
   ]
  },
  {
   "cell_type": "code",
   "execution_count": null,
   "metadata": {
    "id": "TaW3H3kGl1oG"
   },
   "outputs": [],
   "source": [
    "soma = 0\n",
    "for c in range(1, 7):\n",
    "    num = int(input(f'Digite o {c}º número: '))\n",
    "    if num % 2 == 0:\n",
    "        soma += num\n",
    "print(f'A soma dos números pares é {soma}')"
   ]
  },
  {
   "cell_type": "markdown",
   "metadata": {
    "id": "t2sDEeI_lqI1"
   },
   "source": [
    "---\n",
    "\n",
    "**Exercício 51** - progressão aritmética\n",
    "\n",
    "Desenvolva um programa que leia o primeiro termo e a razão de uma Progressão Aritmética. No final, mostre os 10 primeiros termos dessa progressão."
   ]
  },
  {
   "cell_type": "code",
   "execution_count": null,
   "metadata": {
    "id": "x-0SrPQ-PJjA"
   },
   "outputs": [],
   "source": [
    "primeiro = int(input('Primeiro termo da PA: '))\n",
    "razao = int(input('Razão da PA: '))\n",
    "decimo = primeiro + (10 - 1) * razao\n",
    "for c in range(primeiro, decimo + razao, razao):\n",
    "    print(f'{c}', end=' → ')\n",
    "print('ACABOU')"
   ]
  },
  {
   "cell_type": "markdown",
   "metadata": {
    "id": "ohEkQDcilrB9"
   },
   "source": [
    "---\n",
    "\n",
    "**Exercício 52** - números primos\n",
    "\n",
    "Faça um programa que leia um número inteiro e diga se ele é ou não um número primo."
   ]
  },
  {
   "cell_type": "code",
   "execution_count": null,
   "metadata": {
    "id": "mXCzlfH0QwBX"
   },
   "outputs": [],
   "source": [
    "tot = 0\n",
    "num = int(input('Digite um número: '))\n",
    "for c in range(1, num+1):\n",
    "    if num % c == 0:\n",
    "        print('\\033[33m', end='')\n",
    "        tot += 1\n",
    "    else:\n",
    "        print('\\033[31m', end='')\n",
    "    print(f'{c} ', end='')\n",
    "print(f'\\n\\033[30mO número {num} foi divisível {tot} vezes')\n",
    "if tot == 2:\n",
    "    print('E por isso ele É PRIMO!')\n",
    "else:\n",
    "    print('E por isso ele NÃO É PRIMO!')"
   ]
  },
  {
   "cell_type": "markdown",
   "metadata": {
    "id": "Hunep2B7lr1F"
   },
   "source": [
    "---\n",
    "\n",
    "**Exercício 53** - detector de palíndromo\n",
    "\n",
    "Crie um programa que leia uma frase qualquer e diga se ela é um palíndromo (é a mesma coisa lendo de frente para trás ou de trás para frente), desconsiderando os espaços. \n",
    "\n",
    "exemplos de palíndromos: apos a sopa - a sacada da casa - a torre da derrota - o lobo ama o bolo - anotaram a data da maratona"
   ]
  },
  {
   "cell_type": "code",
   "execution_count": null,
   "metadata": {
    "id": "NiS-PApGl4R9"
   },
   "outputs": [],
   "source": [
    "frase = str(input('Digite uma frase: ')).strip().upper()\n",
    "palavras = frase.split()\n",
    "junto = ''.join(palavras)\n",
    "inverso = ''\n",
    "for letra in range(len(junto) -1, -1, -1):\n",
    "    inverso += junto[letra]\n",
    "# ou inverso = junto[::-1]\n",
    "print(f'O inverso de {junto} é {inverso}')\n",
    "if inverso == junto:\n",
    "    print('Temos um palíndromo!')\n",
    "else:\n",
    "    print('A frase digitada não é um palíndromo!')"
   ]
  },
  {
   "cell_type": "markdown",
   "metadata": {
    "id": "cS3IU0qBltAV"
   },
   "source": [
    "---\n",
    "\n",
    "**Exercício 54** - grupo da maioridade\n",
    "\n",
    "Crie um programa que leia o ano de nascimento de sete pessoas. No final, mostre quantas pessoas ainda não atingiram a maioridade e quantas já são maiores. a partir de 21 anos é maior de idade."
   ]
  },
  {
   "cell_type": "code",
   "execution_count": null,
   "metadata": {
    "id": "9s04ARygl4rd"
   },
   "outputs": [],
   "source": [
    "from datetime import date\n",
    "menor = maior = 0\n",
    "for c in range(1, 8):\n",
    "    nascimento = int(input(f'Digite o ano de nascimento da {c}º pessoa: '))\n",
    "    if date.today().year - nascimento < 21:\n",
    "        menor += 1\n",
    "    else:\n",
    "        maior += 1\n",
    "print(f'{maior} pessoas são maiores de idade')\n",
    "print(f'{menor} pessoas são menores de idade')"
   ]
  },
  {
   "cell_type": "markdown",
   "metadata": {
    "id": "bNELBrMGlt1F"
   },
   "source": [
    "---\n",
    "\n",
    "**Exercício 55** - maior e menor da sequência\n",
    "\n",
    "Faça um programa que leia o peso de cinco pessoas. No final, mostre qual foi o maior e o menor peso lidos."
   ]
  },
  {
   "cell_type": "code",
   "execution_count": null,
   "metadata": {
    "id": "uaZTXqtNl5Kl"
   },
   "outputs": [],
   "source": [
    "maior = 0\n",
    "menor = 0\n",
    "for c in range(1, 6):\n",
    "    peso = float(input(f'Peso da {c}º pessoa (kg): '))\n",
    "    if c == 1:\n",
    "        menor = peso\n",
    "        maior = peso\n",
    "    else:\n",
    "        if peso < menor:\n",
    "            menor = peso\n",
    "        if peso > maior:\n",
    "            maior = peso\n",
    "print(f'O maior peso foi de {maior}kg')\n",
    "print(f'O menor peso foi de {menor}kg')"
   ]
  },
  {
   "cell_type": "markdown",
   "metadata": {
    "id": "WwaIOKr1lu5d"
   },
   "source": [
    "---\n",
    "\n",
    "**Exercício 56** - analisador completo\n",
    "\n",
    "Desenvolva um programa que leia o nome, idade e sexo de 4 pessoas. No final do programa, mostre:\n",
    "\n",
    "– a média de idade do grupo\n",
    "\n",
    "– qual é o nome do homem mais velho\n",
    "\n",
    "– quantas mulheres têm menos de 20 anos."
   ]
  },
  {
   "cell_type": "code",
   "execution_count": null,
   "metadata": {
    "id": "VFxvfcRzWzSh"
   },
   "outputs": [],
   "source": [
    "somaidade = 0\n",
    "mediaidade = 0\n",
    "maioridadehomem = 0\n",
    "nomevelho = ''\n",
    "totmulher20 = 0\n",
    "for c in range(1, 5):\n",
    "    print(f'----- {c}º PESSOA -----')\n",
    "    nome = str(input('Nome: ')).strip()\n",
    "    idade = int(input('Idade: '))\n",
    "    sexo = str(input('Sexo [M/F]: ')).strip()\n",
    "    somaidade += idade\n",
    "    if c == 1 and sexo in 'Mm':\n",
    "        maioridadehomem = idade\n",
    "        nomevelho = nome\n",
    "    if sexo in 'Mm' and idade > maioridadehomem:\n",
    "        maioridadehomem = idade\n",
    "        nomevelho = nome\n",
    "    if sexo in 'Ff' and idade < 20:\n",
    "        totmulher20 += 1\n",
    "mediaidade = somaidade / 4\n",
    "print(f'A média de idade do grupo é de {mediaidade} anos')\n",
    "print(f'O homem mais velho tem {maioridadehomem} anos e se chama {nomevelho}.')\n",
    "print(f'Ao todo são {totmulher20} mulheres com menos de 20 anos')"
   ]
  },
  {
   "cell_type": "markdown",
   "metadata": {
    "id": "kFWkVJrzZn2r"
   },
   "source": [
    "#<font color=red> **while**<font color=black> - estruturas de repetição com teste lógico\n",
    "\n"
   ]
  },
  {
   "cell_type": "markdown",
   "metadata": {
    "id": "_M3QuTiRZwAj"
   },
   "source": [
    "<font color=blue>Comandos\n",
    "---"
   ]
  },
  {
   "cell_type": "markdown",
   "metadata": {
    "id": "qzdBfoXXZ2BT"
   },
   "source": [
    "**sintaxe básica while:** while < condição >:\n",
    "\n",
    "**while Significa Enquanto**\n",
    "\n",
    "< condição > é uma expressão que pode ser reduzida à True ou False, podendo ser:\n",
    "\n",
    "- A verificação do valor de uma variável;\n",
    "\n",
    "- Determinada estrutura de dados alcançar um tamanho;\n",
    "\n",
    "- O retorno de uma função se igualar a determinado valor;\n",
    "\n",
    "- Algum valor externo ser alterado (por exemplo um valor armazenado em Banco de Dados).\n",
    "\n",
    "exemplo 1\n",
    ">```\n",
    "Comando\n",
    "c = 1\n",
    "while c < 5:\n",
    "    print(c)\n",
    "    c = c + 1\n",
    "print('Fim')\n",
    "```\n",
    "```\n",
    "Saída\n",
    "1\n",
    "2\n",
    "3\n",
    "4\n",
    "Fim\n",
    "```\n",
    "\n",
    "exemplo 2\n",
    ">```\n",
    "Comando\n",
    "r = 'S'\n",
    "while r == 'S':\n",
    "    n = int(input('Digite um valor: '))\n",
    "    r = str(input('Quer continuar? [S/N] ')).upper()\n",
    "print('Fim')\n",
    "```\n",
    "```\n",
    "Saída\n",
    "Digite um valor: 3\n",
    "Quer continuar? [S/N] S\n",
    "Digite um valor: 6\n",
    "Quer continuar? [S/N] s\n",
    "Digite um valor: 8\n",
    "Quer continuar? [S/N] n\n",
    "Fim\n",
    "```\n",
    "\n",
    "exemplo 3\n",
    ">```\n",
    "Comando\n",
    "n = s = 0\n",
    "while True:\n",
    "    n = int(input('Digite um número: '))\n",
    "    if n == 999:\n",
    "        break\n",
    "    s += n\n",
    "print(f'A soma vale {s}')\n",
    "```\n",
    "```\n",
    "Saída\n",
    "Digite um número: 2\n",
    "Digite um número: 3\n",
    "Digite um número: 999\n",
    "A soma vale 5\n",
    "```\n",
    "\n",
    "---"
   ]
  },
  {
   "cell_type": "markdown",
   "metadata": {
    "id": "n7KnRMXBMuTN"
   },
   "source": [
    "**auxiliadores**\n",
    "\n",
    "**break**\n",
    "\n",
    "é usado para finalizar um loop, isto é, é usado para parar sua execução.\n",
    "\n",
    "geralmente vem acompanhado de alguma condição para isso, com um if.\n",
    "\n",
    "exemplo com auxiliador break\n",
    "\n",
    ">```\n",
    "Comando\n",
    "num = 0\n",
    "while num < 5:\n",
    "    num += 1\n",
    "    if num == 3:\n",
    "        break\n",
    "    print(num)\n",
    "```\n",
    "```\n",
    "Saída\n",
    "1\n",
    "2\n",
    "```\n",
    "\n",
    ">```\n",
    "Comando\n",
    "n = s = 0\n",
    "while True:\n",
    "    n = int(input('Digite um número: '))\n",
    "    if n == 999:\n",
    "        break\n",
    "    s += n\n",
    "print(f'A soma vale {s}')\n",
    "```\n",
    "```\n",
    "Saída\n",
    "Digite um número: 2\n",
    "Digite um número: 3\n",
    "Digite um número: 999\n",
    "A soma vale 5\n",
    "```\n",
    "\n",
    "**continue**\n",
    "\n",
    "funciona de maneira similar ao break, contudo ao invés de encerrar o loop ele pula todo código que estiver abaixo dele (dentro do loop) partindo para a próxima iteração.\n",
    "\n",
    "exemplo com auxiliador continue\n",
    "\n",
    ">```\n",
    "Comando\n",
    "num = 0\n",
    "while num < 5:\n",
    "    num += 1\n",
    "    if num == 3:\n",
    "        continue\n",
    "    print(num)\n",
    "```\n",
    "```\n",
    "Saída\n",
    "1\n",
    "2\n",
    "4\n",
    "5\n",
    "```\n",
    "\n",
    "**pass**\n",
    "\n",
    "o pass nada mais é que uma forma de fazer um código que não realiza operação nenhuma. o comando pass evita que o código resulte em erro.\n",
    "\n",
    "exemplo com auxiliador pass\n",
    "\n",
    ">```\n",
    "Comando\n",
    "while False:\n",
    "    pass\n",
    "```\n",
    "```\n",
    "Saída\n",
    "```\n",
    "\n"
   ]
  },
  {
   "cell_type": "markdown",
   "metadata": {
    "id": "uv5evGQnZzza"
   },
   "source": [
    "<font color=blue>Exercícios\n",
    "---"
   ]
  },
  {
   "cell_type": "markdown",
   "metadata": {
    "id": "3dqALj9pZ2qS"
   },
   "source": [
    "**Exercício 57** - validação de dados\n",
    "\n",
    "Faça um programa que leia o sexo de uma pessoa, mas só aceite os valores ‘M’ ou ‘F’. Caso esteja errado, peça a digitação novamente até ter um valor correto."
   ]
  },
  {
   "cell_type": "code",
   "execution_count": null,
   "metadata": {
    "id": "QKyVr5z3aOfD"
   },
   "outputs": [],
   "source": [
    "sexo = str(input('Informe seu sexo: [M/F] ')).strip().upper()[0] #[0] pega só a primeira letra\n",
    "while sexo not in 'MmFf':\n",
    "    sexo = str(input('Dados inválidos. Por favor, informe seu sexo: ')).strip().upper()[0]\n",
    "print(f'Sexo {sexo} registrado com sucesso')"
   ]
  },
  {
   "cell_type": "markdown",
   "metadata": {
    "id": "W5Nluhx1aP2C"
   },
   "source": [
    "---\n",
    "\n",
    "**Exercício 58** - jogo da adivinhação v2.0\n",
    "\n",
    "Melhore o jogo do desafio 28 onde o computador vai “pensar” em um número entre 0 e 10. Só que agora o jogador vai tentar adivinhar até acertar, mostrando no final quantos palpites foram necessários para vencer."
   ]
  },
  {
   "cell_type": "code",
   "execution_count": null,
   "metadata": {
    "id": "r0R6vzMEHPN6"
   },
   "outputs": [],
   "source": [
    "from random import randint\n",
    "computador = randint(0, 10)\n",
    "print('Sou seu computador... Acabei de pensar em um número entre 0 e 10.')\n",
    "print('Será que você consegue adivinhar qual foi? ')\n",
    "acertou = False\n",
    "palpites = 0\n",
    "while not acertou:\n",
    "    jogador = int(input('Qual é seu palpite? '))\n",
    "    palpites += 1\n",
    "    if jogador == computador:\n",
    "        acertou = True\n",
    "    else:\n",
    "        if jogador < computador:\n",
    "            print('Mais... Tente mais uma vez.')\n",
    "        elif jogador > computador:\n",
    "            print('Menos... Tente mais uma vez.')\n",
    "print(f'Acertou com {palpites} tentativas. Parabéns!')"
   ]
  },
  {
   "cell_type": "markdown",
   "metadata": {
    "id": "W9HMBHOAaRoS"
   },
   "source": [
    "---\n",
    "\n",
    "**Exercício 59** - criando um menu de opções\n",
    "\n",
    "Crie um programa que leia dois valores e mostre um menu na tela:\n",
    "\n",
    "[ 1 ] somar\n",
    "\n",
    "[ 2 ] multiplicar\n",
    "\n",
    "[ 3 ] maior\n",
    "\n",
    "[ 4 ] novos números\n",
    "\n",
    "[ 5 ] sair do programa\n",
    "\n",
    "Seu programa deverá realizar a operação solicitada em cada caso."
   ]
  },
  {
   "cell_type": "code",
   "execution_count": null,
   "metadata": {
    "id": "LYBDAuS3IxbR"
   },
   "outputs": [],
   "source": [
    "from time import sleep\n",
    "n1 = int(input('Primeiro valor: '))\n",
    "n2 = int(input('Segundo valor: '))\n",
    "opcao = 0\n",
    "while opcao != 5:\n",
    "    print('''    [ 1 ] somar\n",
    "    [ 2 ] multiplicar\n",
    "    [ 3 ] maior\n",
    "    [ 4 ] novos números\n",
    "    [ 5 ] sair do programa''')\n",
    "    opcao = int(input('>>>>> Qual é a sua opção? '))\n",
    "    if opcao == 1:\n",
    "        soma = n1 + n2\n",
    "        print(f'A soma entre {n1} + {n2} é {soma}')\n",
    "    elif opcao == 2:\n",
    "        produto = n1 * n2\n",
    "        print(f'O resultado de {n1} x {n2} é {produto}')\n",
    "    elif opcao == 3:\n",
    "        if n1 > n2:\n",
    "            maior = n1\n",
    "        else:\n",
    "            maior = n2\n",
    "        print(f'Entre {n1} e {n2} o maior é {maior}')\n",
    "    elif opcao == 4:\n",
    "        print('Informe os números novamente:')\n",
    "        n1 = int(input('Primeiro valor: '))\n",
    "        n2 = int(input('Segundo valor: '))\n",
    "    elif opcao == 5:\n",
    "        print('Finalizando...')\n",
    "    else:\n",
    "        print('Opção inválida. Tente novamente')\n",
    "    print('=-=' * 10)\n",
    "    sleep(2)\n",
    "print('Fim do programa! Volte sempre!')"
   ]
  },
  {
   "cell_type": "markdown",
   "metadata": {
    "id": "nDvQVtKAaS9r"
   },
   "source": [
    "---\n",
    "\n",
    "**Exercício 60** - cálculo do fatorial\n",
    "\n",
    "Faça um programa que leia um número qualquer e mostre o seu fatorial. \n",
    "\n",
    "exemplo: 5! = 5 x 4 x 3 x 2 x 1 = 120"
   ]
  },
  {
   "cell_type": "code",
   "execution_count": null,
   "metadata": {
    "id": "etmjFZd8K5z0"
   },
   "outputs": [],
   "source": [
    "n = int(input('Digite um número para calcular o seu Fatorial: '))\n",
    "c = n\n",
    "f = 1\n",
    "print(f'Calculando {n}! = ', end='')\n",
    "while c > 0:\n",
    "    print(f'{c}', end = '')\n",
    "    print(f' x ' if c > 1 else ' = ', end='')\n",
    "    f *= c\n",
    "    c -= 1\n",
    "print(f'{f}')"
   ]
  },
  {
   "cell_type": "markdown",
   "metadata": {
    "id": "o2CpnskPaVuC"
   },
   "source": [
    "---\n",
    "\n",
    "**Exercício 61** - progressão aritmética v2.0\n",
    "\n",
    "Refaça o desafio 51, lendo o primeiro termo e a razão de uma PA, mostrando os 10 primeiros termos da progressão usando a estrutura while."
   ]
  },
  {
   "cell_type": "code",
   "execution_count": null,
   "metadata": {
    "id": "e_M46aLJNBTW"
   },
   "outputs": [],
   "source": [
    "print('Gerador de PA')\n",
    "print('-=' * 10)\n",
    "primeiro = int(input('Primeiro termo: '))\n",
    "razao = int(input('Razão da PA: '))\n",
    "termo = primeiro\n",
    "cont = 1\n",
    "while cont <= 10:\n",
    "    print(f'{termo} ➡ ', end='')\n",
    "    termo += razao\n",
    "    cont += 1\n",
    "print('FIM')"
   ]
  },
  {
   "cell_type": "markdown",
   "metadata": {
    "id": "heYPcBOBaXHj"
   },
   "source": [
    "---\n",
    "\n",
    "**Exercício 62** - super progressão aritmética v3.0\n",
    "\n",
    "Melhore o desafio 61, perguntando para o usuário se ele quer mostrar mais alguns termos. O programa encerrará quando ele disser que quer mostrar 0 termos."
   ]
  },
  {
   "cell_type": "code",
   "execution_count": null,
   "metadata": {
    "id": "a4ATBLdUL7TN"
   },
   "outputs": [],
   "source": [
    "print('Gerador de PA')\n",
    "print('-=' * 10)\n",
    "primeiro = int(input('Primeiro termo: '))\n",
    "razao = int(input('Razão da PA: '))\n",
    "termo = primeiro\n",
    "cont = 1\n",
    "total = 0\n",
    "mais = 10\n",
    "while mais != 0:\n",
    "    total = total + mais\n",
    "    while cont <= total:\n",
    "        print(f'{termo} ➡ ', end='')\n",
    "        termo += razao\n",
    "        cont += 1\n",
    "    print('PAUSA')\n",
    "    mais = int(input('Quantos termos você quer mostrar a mais? '))\n",
    "print(f'Progressão finalizada com {total} termos mostrados.')"
   ]
  },
  {
   "cell_type": "markdown",
   "metadata": {
    "id": "EuOpXoUqaYtj"
   },
   "source": [
    "---\n",
    "\n",
    "**Exercício 63** - sequência de fibonacci v1.0\n",
    "\n",
    "Escreva um programa que leia um número N inteiro qualquer e mostre na tela os N primeiros elementos de uma Sequência de Fibonacci.\n",
    "\n",
    "Exemplo: 0 → 1 → 1 → 2 → 3 → 5 → 8"
   ]
  },
  {
   "cell_type": "code",
   "execution_count": null,
   "metadata": {
    "id": "ymzWiRybaZlr"
   },
   "outputs": [],
   "source": [
    "print('-'*30)\n",
    "print('Sequência de Fibonacci')\n",
    "print('-'*30)\n",
    "n= int(input('Quantos termos você quer mostrar? '))\n",
    "t1 = 0\n",
    "t2 = 1\n",
    "print('~'*30)\n",
    "print(f'{t1} ➡ {t2}', end='')\n",
    "cont = 3\n",
    "while cont <= n:\n",
    "    t3 = t1 + t2\n",
    "    print(f' ➡ {t3}', end='')\n",
    "    t1 = t2\n",
    "    t2 = t3\n",
    "    cont += 1\n",
    "print(' ➡ FIM')\n",
    "print('~'*30)"
   ]
  },
  {
   "cell_type": "markdown",
   "metadata": {
    "id": "J3sY4d_EaZ4j"
   },
   "source": [
    "---\n",
    "\n",
    "**Exercício 64** - tratando vários valores v1.0\n",
    "\n",
    "Crie um programa que leia vários números inteiros pelo teclado. O programa só vai parar quando o usuário digitar o valor 999, que é a condição de parada. No final, mostre quantos números foram digitados e qual foi a soma entre eles (desconsiderando o flag)."
   ]
  },
  {
   "cell_type": "code",
   "execution_count": null,
   "metadata": {
    "id": "xwZ0qrMRVmnQ"
   },
   "outputs": [],
   "source": [
    "num = cont = soma = 0\n",
    "num = int(input('Digite um número [999 para parar]: '))\n",
    "while num != 999:\n",
    "    soma += num\n",
    "    cont += 1\n",
    "    num = int(input('Digite um número [999 para parar]: '))\n",
    "print(f'Você digitou {cont} números e a soma entre eles foi {soma}.')"
   ]
  },
  {
   "cell_type": "markdown",
   "metadata": {
    "id": "1wOofvPiabKb"
   },
   "source": [
    "---\n",
    "\n",
    "**Exercício 65** - maior e menor valores\n",
    "\n",
    "Crie um programa que leia vários números inteiros pelo teclado. No final da execução, mostre a média entre todos os valores e qual foi o maior e o menor valores lidos. O programa deve perguntar ao usuário se ele quer ou não continuar a digitar valores."
   ]
  },
  {
   "cell_type": "code",
   "execution_count": null,
   "metadata": {
    "id": "FlZzop-DWO_H"
   },
   "outputs": [],
   "source": [
    "resp = 'S'\n",
    "soma = quant = media = maior = menor = 0\n",
    "while resp in 'Ss':\n",
    "    num = int(input('Digite um número: '))\n",
    "    soma += num\n",
    "    quant += 1\n",
    "    if quant == 1:\n",
    "        maior = menor = num\n",
    "    else:\n",
    "        if num > maior:\n",
    "            maior = num\n",
    "        if num < menor:\n",
    "            menor = num\n",
    "    resp = str(input('Quer continuar? [S/N] ')).upper().strip()[0]\n",
    "media = soma / quant\n",
    "print(f'Você digitou {quant} números e a média foi {media}')\n",
    "print(f'O maior valor foi {maior} e o menor foi {menor}')"
   ]
  },
  {
   "cell_type": "markdown",
   "metadata": {
    "id": "QEMm6flAac5r"
   },
   "source": [
    "---\n",
    "\n",
    "**Exercício 66** - vários números com flag\n",
    "\n",
    "Crie um programa que leia números inteiros pelo teclado. O programa só vai parar quando o usuário digitar o valor 999, que é a condição de parada. No final, mostre quantos números foram digitados e qual foi a soma entre elas (desconsiderando o flag)."
   ]
  },
  {
   "cell_type": "code",
   "execution_count": null,
   "metadata": {
    "id": "AWzmvs4bn7Ip"
   },
   "outputs": [],
   "source": [
    "soma = cont = 0\n",
    "while True:\n",
    "    num = int(input('Digite um valor (999 para parar): '))\n",
    "    if num == 999:\n",
    "        break\n",
    "    cont += 1\n",
    "    soma += num\n",
    "print(f'A soma dos {cont} valores foi {soma}!')"
   ]
  },
  {
   "cell_type": "markdown",
   "metadata": {
    "id": "xjN9GJFiaeRE"
   },
   "source": [
    "---\n",
    "\n",
    "**Exercício 67** - tabuada v3.0\n",
    "\n",
    "Faça um programa que mostre a tabuada de vários números, um de cada vez, para cada valor digitado pelo usuário. O programa será interrompido quando o número solicitado for negativo."
   ]
  },
  {
   "cell_type": "code",
   "execution_count": null,
   "metadata": {
    "id": "bRlu_XqSoacB"
   },
   "outputs": [],
   "source": [
    "while True:\n",
    "    n = int(input('Quer ver a tabulada de qual valor? '))\n",
    "    print('-' * 30)\n",
    "    if n < 0:\n",
    "        break\n",
    "    for c in range(1, 11):\n",
    "        print(f'{n} x {c} = {n * c}')\n",
    "    print('-' * 30)\n",
    "print('PROGRAMA TABUADA ENCERRADO. Volte sempre!')"
   ]
  },
  {
   "cell_type": "markdown",
   "metadata": {
    "id": "xST4EwyMaiFr"
   },
   "source": [
    "---\n",
    "\n",
    "**Exercício 68** - jogo do par ou ímpar\n",
    "\n",
    "Faça um programa que jogue par ou ímpar com o computador. O jogo só será interrompido quando o jogador perder, mostrando o total de vitórias consecutivas que ele conquistou no final do jogo."
   ]
  },
  {
   "cell_type": "code",
   "execution_count": null,
   "metadata": {
    "id": "cqyqncQGpDei"
   },
   "outputs": [],
   "source": [
    "from random import randint\n",
    "v = 0\n",
    "while True:\n",
    "    jogador = int(input('Diga um valor: '))\n",
    "    computador = randint(0, 10)\n",
    "    total = jogador + computador\n",
    "    tipo = ' '\n",
    "    while tipo not in 'PI':\n",
    "        tipo = str(input('Par ou Ímpar? [P/I] ')).strip().upper()[0]\n",
    "    print(f'Você jogou {jogador} e o computador {computador}. Total de {total} ', end=\"\")\n",
    "    print('DEU PAR' if total % 2 == 0 else 'DEU ÍMPAR')\n",
    "    if tipo == 'P':\n",
    "        if total % 2 == 0:\n",
    "            print('Você VENCEU!')\n",
    "            v += 1\n",
    "        else:\n",
    "            print('Você PERDEU!')\n",
    "            break\n",
    "    elif tipo == 'I':\n",
    "        if total % 2 == 1:\n",
    "            print('Você VENCEU!')\n",
    "            v += 1\n",
    "        else:\n",
    "            print('Você PERDEU!')\n",
    "            break\n",
    "    print('Vamos jogar novamente...')\n",
    "print(f'GAME OVER! Você venceu {v} vezes.')"
   ]
  },
  {
   "cell_type": "markdown",
   "metadata": {
    "id": "gR9HTDpvajYL"
   },
   "source": [
    "---\n",
    "\n",
    "**Exercício 69** - análise de dados do grupo\n",
    "\n",
    "Crie um programa que leia a idade e o sexo de várias pessoas. A cada pessoa cadastrada, o programa deverá perguntar se o usuário quer ou não continuar. No final, mostre:\n",
    "\n",
    "A) quantas pessoas tem mais de 18 anos.\n",
    "\n",
    "B) quantos homens foram cadastrados.\n",
    "\n",
    "C) quantas mulheres tem menos de 20 anos."
   ]
  },
  {
   "cell_type": "code",
   "execution_count": null,
   "metadata": {
    "id": "OuOAQYDisX9c"
   },
   "outputs": [],
   "source": [
    "tot18 = toth = totm20 = 0\n",
    "while True:\n",
    "    idade = int(input('Idade: '))\n",
    "    sexo = ' '\n",
    "    while sexo not in 'MF':\n",
    "       sexo = str(input('Sexo: [M/F] ')).strip().upper()[0]\n",
    "    if idade >= 18:\n",
    "        tot18 += 1\n",
    "    if sexo == 'M':\n",
    "        toth += 1\n",
    "    if sexo == 'F' and idade < 20:\n",
    "        totm20 += 1\n",
    "    resp = ' '\n",
    "    while resp not in 'SN':\n",
    "        resp = str(input('Quer continuar? [S/N] ')).strip(). upper()[0]\n",
    "    if resp == 'N':\n",
    "        break\n",
    "print(f'Total de pessoas com mais de 18 anos = {tot18}')\n",
    "print(f'Ao todo temos {toth} homens cadastrados')\n",
    "print(f'E temos {totm20} mulheres com menos de 20 anos')"
   ]
  },
  {
   "cell_type": "markdown",
   "metadata": {
    "id": "zcrZZGf8akms"
   },
   "source": [
    "---\n",
    "\n",
    "**Exercício 70** - estatísticas em produtos\n",
    "\n",
    "Crie um programa que leia o nome e o preço de vários produtos. O programa deverá perguntar se o usuário vai continuar ou não. No final, mostre:\n",
    "\n",
    "A) qual é o total gasto na compra.\n",
    "\n",
    "B) quantos produtos custam mais de R$1.000.\n",
    "\n",
    "C) qual é o nome do produto mais barato."
   ]
  },
  {
   "cell_type": "code",
   "execution_count": null,
   "metadata": {
    "id": "Ep33bwY-uueF"
   },
   "outputs": [],
   "source": [
    "total = totmil = menor = cont = 0\n",
    "barato = ''\n",
    "while True:\n",
    "    produto = str(input('Nome do produto: '))\n",
    "    preco = float(input('Preço: R$'))\n",
    "    cont += 1\n",
    "    total += preco\n",
    "    if preco > 1000:\n",
    "        totmil += 1\n",
    "    if cont == 1:\n",
    "        menor = preco\n",
    "        barato = produto\n",
    "    else:\n",
    "        if preco < menor:\n",
    "            menor = preco\n",
    "            barato = produto\n",
    "    resp = ' '\n",
    "    while resp not in 'SN':\n",
    "        resp = str(input('Quer continuar? [S/N] ')).strip().upper()[0]\n",
    "    if resp == 'N':\n",
    "        break\n",
    "print(f'{\" FIM DO PROGRAMA \":-^40}')\n",
    "print(f'O total da compra foi R${total:.2f}')\n",
    "print(f'Temos {totmil} produtos custando mais de R$1.000')\n",
    "print(f'O produto mais barato foi {barato} que custa R${menor:.2f}')"
   ]
  },
  {
   "cell_type": "markdown",
   "metadata": {
    "id": "4OVPcVY4al7i"
   },
   "source": [
    "---\n",
    "\n",
    "**Exercício 71** - simulador de caixa eletrônico\n",
    "\n",
    "Crie um programa que simule o funcionamento de um caixa eletrônico. No início, pergunte ao usuário qual será o valor a ser sacado (número inteiro) e o programa vai informar quantas cédulas de cada valor serão entregues.\n",
    "\n",
    "obs: considere que o caixa possui cédulas de 50 reais, 20 reais, 10 reais e 1 real."
   ]
  },
  {
   "cell_type": "code",
   "execution_count": null,
   "metadata": {
    "id": "LsvmjxyskjiQ"
   },
   "outputs": [],
   "source": [
    "print('=' * 30)\n",
    "print(f'{\"BANCO CEV\":^30}')\n",
    "print('=' * 30)\n",
    "valor = int(input('Que valor você quer sacar? R$'))\n",
    "total = valor\n",
    "ced = 50\n",
    "totced = 0\n",
    "while True:\n",
    "    if total >= ced:\n",
    "        total -= ced\n",
    "        totced += 1\n",
    "    else:\n",
    "        if totced > 0:\n",
    "            print(f'Total de {totced} cédulas de R${ced}')\n",
    "        if ced == 50:\n",
    "            ced = 20\n",
    "        elif ced == 20:\n",
    "            ced = 10\n",
    "        elif ced == 10:\n",
    "            ced = 1\n",
    "        totced = 0\n",
    "        if total == 0:\n",
    "            break\n",
    "print('=' * 30)\n",
    "print('Volte sempre ao BANCO CEV! Tenha um bom dia!')"
   ]
  },
  {
   "cell_type": "markdown",
   "metadata": {
    "id": "GN6mCngRa0e2"
   },
   "source": [
    "# <font color=red> **Outros**"
   ]
  },
  {
   "cell_type": "markdown",
   "metadata": {
    "id": "UG3j4bwNjScA"
   },
   "source": [
    "**time.sleep()**\n",
    "\n",
    "O Python possui suporte integrado para colocar seu programa em hibernação. O timemódulo tem uma função sleep()que você pode usar para suspender a execução do thread de chamada por quantos segundos você especificar.\n",
    "\n",
    "exemplo\n",
    "\n",
    ">```\n",
    "Comando\n",
    "from time import sleep\n",
    "for c in range(5, -1, -1):\n",
    "  print(c)\n",
    "  sleep(1)\n",
    "```\n",
    "```\n",
    "Saída\n",
    "5\n",
    "4\n",
    "3\n",
    "2\n",
    "1\n",
    "0\n",
    "```\n",
    "\n",
    "\n",
    "---\n",
    "\n",
    "\n"
   ]
  },
  {
   "cell_type": "markdown",
   "metadata": {
    "id": "sDkg40N5qp_7"
   },
   "source": [
    "**date.today()**\n",
    "\n",
    "Dessa forma você consegue obter a data atual no Python.\n",
    "\n",
    "\n",
    "\n",
    ">```\n",
    "Comando\n",
    "from datetime import date\n",
    "print(date.today())\n",
    "```\n",
    "```\n",
    "Saída\n",
    "2023-03-01\n",
    "```\n",
    "\n",
    "**date.today().year**\n",
    "\n",
    "Retorna o ano da data atual.\n",
    "\n",
    ">```\n",
    "Comando\n",
    "from datetime import date\n",
    "print(date.today().year)\n",
    "```\n",
    "```\n",
    "Saída\n",
    "2023\n",
    "```\n",
    "\n",
    "\n",
    "**date.today().month**\n",
    "\n",
    "Retorna o mês da data atual.\n",
    "\n",
    ">```\n",
    "Comando\n",
    "from datetime import date\n",
    "print(date.today().month)\n",
    "```\n",
    "```\n",
    "Saída\n",
    "3\n",
    "```\n",
    "\n",
    "**date.today().day**\n",
    "\n",
    "Retorna o dia da data atual.\n",
    "\n",
    ">```\n",
    "Comando\n",
    "from datetime import date\n",
    "print(date.today().day)\n",
    "```\n",
    "```\n",
    "Saída\n",
    "1\n",
    "```\n",
    "\n",
    "\n",
    "\n",
    "---\n",
    "\n",
    "\n"
   ]
  },
  {
   "cell_type": "markdown",
   "metadata": {
    "id": "WZGSzPPgTRe4"
   },
   "source": [
    "**random.randint**\n",
    "\n",
    "O randint()método retorna um elemento selecionado de número inteiro do intervalo especificado.\n",
    "\n",
    "Retorna um número inteiro aleatório no intervalo específicado.\n",
    "\n",
    "random.randint(Inicio, fim)\n",
    "\n",
    "```\n",
    "Comando\n",
    "import random\n",
    "print(random.randint(3, 9))\n",
    "\n",
    "Saída\n",
    "4 #qualquer número no intervalo\n",
    "```\n",
    "\n",
    "\n"
   ]
  }
 ],
 "metadata": {
  "colab": {
   "collapsed_sections": [
    "ydlcFkOCbJmw",
    "FUe2dm3-cQpI",
    "-mcIJWnTcEIB",
    "J-J6eWzBbPSJ",
    "lRDVhtfhdGrT",
    "Vkd7DRNrdHXR",
    "kFWkVJrzZn2r",
    "_M3QuTiRZwAj",
    "uv5evGQnZzza",
    "GN6mCngRa0e2"
   ],
   "provenance": []
  },
  "kernelspec": {
   "display_name": "Python 3",
   "name": "python3"
  },
  "language_info": {
   "name": "python",
   "version": "3.11.9"
  }
 },
 "nbformat": 4,
 "nbformat_minor": 0
}
